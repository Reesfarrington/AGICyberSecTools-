{
  "nbformat": 4,
  "nbformat_minor": 0,
  "metadata": {
    "colab": {
      "provenance": [],
      "authorship_tag": "ABX9TyOenJ+nmrxO/1Hme+DAlSet",
      "include_colab_link": true
    },
    "kernelspec": {
      "name": "python3",
      "display_name": "Python 3"
    },
    "language_info": {
      "name": "python"
    }
  },
  "cells": [
    {
      "cell_type": "markdown",
      "metadata": {
        "id": "view-in-github",
        "colab_type": "text"
      },
      "source": [
        "<a href=\"https://colab.research.google.com/github/Reesfarrington/AGICyberSecTools-/blob/main/Copy_of_ExampleBasicPortScanner.ipynb\" target=\"_parent\"><img src=\"https://colab.research.google.com/assets/colab-badge.svg\" alt=\"Open In Colab\"/></a>"
      ]
    },
    {
      "cell_type": "markdown",
      "source": [
        "# Python CyberSec Tools Basic Lesson 1: Port Scanner\n",
        "\n",
        "Using #ChatGPT3.5 and always free.\n",
        "@AGICyberSec on TikTok and YouTube.com/@AGICyberSecTools\n",
        "\n",
        "\"The AGI way of coding.\" -Rees\n",
        "\n",
        "The first section is the entire AGI generated transcript project. The following is the core code for testing purposes.\n",
        "\n",
        "YT @ https://youtu.be/-LToQ05_Llk?si=cA4-1-HxwiPxAe1E\n",
        "GitHub @"
      ],
      "metadata": {
        "id": "y5okxY07nZoB"
      }
    },
    {
      "cell_type": "code",
      "execution_count": null,
      "metadata": {
        "id": "TBHPSMa4kZlp"
      },
      "outputs": [],
      "source": [
        "\n",
        "Certainly! Here's a brief lesson outline for \"Advanced Cybersecurity Tools Coded from Scratch - Lesson 1\" along with a code example and explanation for the basic tool number 1, which is a simple port scanner:\n",
        "\n",
        "**Lesson 1: Advanced Cybersecurity Tools Coded from Scratch**\n",
        "\n",
        "**Tool 1: Basic Port Scanner**\n",
        "\n",
        "*Objective:*\n",
        "Learn to create a basic port scanner in Python from scratch.\n",
        "\n",
        "*Code Example:*\n",
        "```python\n",
        "import socket\n",
        "\n",
        "def scan_ports(target, ports):\n",
        "    open_ports = []\n",
        "    for port in ports:\n",
        "        sock = socket.socket(socket.AF_INET, socket.SOCK_STREAM)\n",
        "        sock.settimeout(1)\n",
        "        result = sock.connect_ex((target, port))\n",
        "        if result == 0:\n",
        "            open_ports.append(port)\n",
        "        sock.close()\n",
        "    return open_ports\n",
        "\n",
        "if __name__ == \"__main__\":\n",
        "    target_ip = \"127.0.0.1\"  # Replace with the target IP address\n",
        "    target_ports = range(1, 1025)  # Scan ports from 1 to 1024\n",
        "    open_ports = scan_ports(target_ip, target_ports)\n",
        "    if open_ports:\n",
        "        print(\"Open ports:\")\n",
        "        for port in open_ports:\n",
        "            print(f\"Port {port} is open\")\n",
        "    else:\n",
        "        print(\"No open ports found.\")\n",
        "```\n",
        "\n",
        "*Code Explanation:*\n",
        "- We import the `socket` module for network socket programming.\n",
        "- `scan_ports` is a function that takes a target IP address and a list of ports to scan.\n",
        "- We create an empty list `open_ports` to store open ports.\n",
        "- We loop through each port in the specified range.\n",
        "- For each port, we create a socket using `socket.socket()`.\n",
        "- We use `sock.settimeout(1)` to set a timeout for the connection attempt to 1 second.\n",
        "- `sock.connect_ex((target, port))` attempts to establish a connection to the target IP and port. If the connection is successful, it returns 0.\n",
        "- If the result is 0, we consider the port as open and add it to the `open_ports` list.\n",
        "- Finally, we print the open ports, if any were found.\n",
        "\n",
        "This is a basic example of a port scanner. In a real-world scenario, you should use such tools responsibly and ensure you have the necessary permissions to scan a target system.\n",
        "\n",
        "In the subsequent lessons, you can build upon this foundation to create more advanced cybersecurity tools."
      ]
    },
    {
      "cell_type": "code",
      "source": [
        "\n",
        "import socket\n",
        "\n",
        "def scan_ports(target, ports):\n",
        "    open_ports = []\n",
        "    for port in ports:\n",
        "        sock = socket.socket(socket.AF_INET, socket.SOCK_STREAM)\n",
        "        sock.settimeout(1)\n",
        "        result = sock.connect_ex((target, port))\n",
        "        if result == 0:\n",
        "            open_ports.append(port)\n",
        "        sock.close()\n",
        "    return open_ports\n",
        "\n",
        "if __name__ == \"__main__\":\n",
        "    target_ip = \"127.0.0.1\"  # Replace with the target IP address\n",
        "    target_ports = range(1, 1025)  # Scan ports from 1 to 1024\n",
        "    open_ports = scan_ports(target_ip, target_ports)\n",
        "    if open_ports:\n",
        "        print(\"Open ports:\")\n",
        "        for port in open_ports:\n",
        "            print(f\"Port {port} is open\")\n",
        "    else:\n",
        "        print(\"No open ports found.\")"
      ],
      "metadata": {
        "id": "EaScrDZMolIS"
      },
      "execution_count": null,
      "outputs": []
    }
  ]
}