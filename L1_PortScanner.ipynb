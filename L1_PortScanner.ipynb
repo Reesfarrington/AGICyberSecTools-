import socket

def scan_ports(target, ports):
    open_ports = []
    for port in ports:
        sock = socket.socket(socket.AF_INET, socket.SOCK_STREAM)
        sock.settimeout(1)
        result = sock.connect_ex((target, port))
        if result == 0:
            open_ports.append(port)
        sock.close()
    return open_ports

if __name__ == "__main__":
    target_ip = "127.0.0.1"  # Replace with the target IP address
    target_ports = range(1, 1025)  # Scan ports from 1 to 1024
    open_ports = scan_ports(target_ip, target_ports)
    if open_ports:
        print("Open ports:")
        for port in open_ports:
            print(f"Port {port} is open")
    else:
        print("No open ports found.")
